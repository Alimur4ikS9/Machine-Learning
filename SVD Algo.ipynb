{
 "cells": [
  {
   "cell_type": "code",
   "execution_count": 39,
   "metadata": {},
   "outputs": [
    {
     "name": "stdout",
     "output_type": "stream",
     "text": [
      "--- FULL ---\n",
      "U:\n",
      " [[-0.408  0.577 -0.707]\n",
      " [-0.816 -0.577  0.   ]\n",
      " [-0.408  0.577  0.707]]\n",
      "s:\n",
      " [2.828 1.414 0.   ]\n",
      "VT:\n",
      " [[-0.408 -0.866 -0.289]\n",
      " [-0.577 -0.     0.816]\n",
      " [-0.707  0.5   -0.5  ]]\n",
      "--- REDUCED ---\n",
      "U:\n",
      " [[-0.408  0.577 -0.707]\n",
      " [-0.816 -0.577  0.   ]\n",
      " [-0.408  0.577  0.707]]\n",
      "s:\n",
      " [2.828 1.414 0.   ]\n",
      "VT:\n",
      " [[-0.408 -0.866 -0.289]\n",
      " [-0.577 -0.     0.816]\n",
      " [-0.707  0.5   -0.5  ]]\n"
     ]
    }
   ],
   "source": [
    "import numpy as np\n",
    "M = np.array([[0, 1, 1], [sqrt(2), 2, 0], [0, 1, 1]])\n",
    "\n",
    "# set numpy printing options\n",
    "np.set_printoptions(suppress=True)\n",
    "np.set_printoptions(precision=3)\n",
    "\n",
    "print (\"--- FULL ---\")\n",
    "U, s, VT = np.linalg.svd(M, full_matrices=True)\n",
    "\n",
    "print (\"U:\\n {}\".format(U))\n",
    "print (\"s:\\n {}\".format(s))\n",
    "print (\"VT:\\n {}\".format(VT))\n",
    "\n",
    "print (\"--- REDUCED ---\")\n",
    "\n",
    "U, s, VT = np.linalg.svd(M, full_matrices=False)\n",
    "\n",
    "print (\"U:\\n {}\".format(U))\n",
    "print (\"s:\\n {}\".format(s))\n",
    "print (\"VT:\\n {}\".format(VT))"
   ]
  },
  {
   "cell_type": "code",
   "execution_count": 22,
   "metadata": {},
   "outputs": [],
   "source": [
    "import numpy as np\n",
    "import pandas as pd\n",
    "from math import sqrt\n",
    "import scipy\n",
    "from scipy import linalg"
   ]
  },
  {
   "cell_type": "code",
   "execution_count": 60,
   "metadata": {},
   "outputs": [],
   "source": [
    "def SVD(M):\n",
    "    print(\"M - matrix\\n\")\n",
    "    print(M)\n",
    "    \n",
    "    Mt = M.transpose()\n",
    "    MdMt = M.dot(Mt)\n",
    "    MtdM = Mt.dot(M)            \n",
    "    λ, V = linalg.eig(MtdM)\n",
    "    \n",
    "    print(\"\\nλ - eigenvalue\\n\")\n",
    "    print(λ)\n",
    "    print(\"\\n-------------\\n\")\n",
    "    \n",
    "    Vt = V.transpose()\n",
    "    \n",
    "    for i in range(len(λ)):\n",
    "        λ[i] = sqrt(abs(λ[i]))\n",
    "        \n",
    "    λ = sorted(λ, reverse = True)\n",
    "    \n",
    "    S = np.diag(λ)\n",
    "    S_inversed = np.linalg.inv(S)\n",
    "    \n",
    "    print(\"Vt - V transposed\\n\")\n",
    "    for i in range(len(V)):\n",
    "        print(V[:,i])\n",
    "        \n",
    "    U = M.dot(V.dot(S_inversed))    \n",
    "    \n",
    "#     u, s, vt = np.linalg.svd(a, full_matrices=False)\n",
    "    print (\"\\n--- FULL ---\\n\")\n",
    "    \n",
    "    print(\"U\\n\")\n",
    "    print(U)\n",
    "    print(\"S\\n\")\n",
    "    print(S)\n",
    "    print(\"V\\n\")\n",
    "    print(V)\n",
    "    \n",
    "#     print (\"\\n--- REDUCED ---\\n\")\n",
    "    \n",
    "#     print(u)\n",
    "#     print(\"\\n-------------\")\n",
    "#     print(s)\n",
    "#     print(\"\\n-------------\")\n",
    "#     print(vt)         \n",
    "#     print(\"\\n-------------\")\n",
    "    \n",
    "#     print(\"\\n-------------\")\n",
    "#     print(M)\n",
    "#     print(\"\\n-------------\")\n",
    "#     print(U.dot(S.dot(Vt)))"
   ]
  },
  {
   "cell_type": "code",
   "execution_count": 61,
   "metadata": {},
   "outputs": [
    {
     "name": "stdout",
     "output_type": "stream",
     "text": [
      "M - matrix\n",
      "\n",
      "[[0.    1.    1.   ]\n",
      " [1.414 2.    0.   ]\n",
      " [0.    1.    1.   ]]\n",
      "\n",
      "λ - eigenvalue\n",
      "\n",
      "[ 8.+0.j -0.+0.j  2.+0.j]\n",
      "\n",
      "-------------\n",
      "\n",
      "Vt - V transposed\n",
      "\n",
      "[-0.408 -0.866 -0.289]\n",
      "[ 0.707 -0.5    0.5  ]\n",
      "[-0.577 -0.     0.816]\n",
      "\n",
      "--- FULL ---\n",
      "\n",
      "U\n",
      "\n",
      "[[-4.082e-01+0.j -5.551e-17+0.j  2.946e+08+0.j]\n",
      " [-8.165e-01+0.j  1.110e-16+0.j -2.946e+08+0.j]\n",
      " [-4.082e-01+0.j -5.551e-17+0.j  2.946e+08+0.j]]\n",
      "S\n",
      "\n",
      "[[2.828+0.j 0.   +0.j 0.   +0.j]\n",
      " [0.   +0.j 1.414+0.j 0.   +0.j]\n",
      " [0.   +0.j 0.   +0.j 0.   +0.j]]\n",
      "V\n",
      "\n",
      "[[-0.408  0.707 -0.577]\n",
      " [-0.866 -0.5   -0.   ]\n",
      " [-0.289  0.5    0.816]]\n"
     ]
    }
   ],
   "source": [
    "M = np.array([[0, 1, 1], [sqrt(2), 2, 0], [0, 1, 1]])\n",
    "SVD(M)"
   ]
  },
  {
   "cell_type": "code",
   "execution_count": null,
   "metadata": {},
   "outputs": [],
   "source": []
  }
 ],
 "metadata": {
  "kernelspec": {
   "display_name": "Python 3",
   "language": "python",
   "name": "python3"
  },
  "language_info": {
   "codemirror_mode": {
    "name": "ipython",
    "version": 3
   },
   "file_extension": ".py",
   "mimetype": "text/x-python",
   "name": "python",
   "nbconvert_exporter": "python",
   "pygments_lexer": "ipython3",
   "version": "3.6.5"
  }
 },
 "nbformat": 4,
 "nbformat_minor": 2
}
