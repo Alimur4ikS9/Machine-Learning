{
 "cells": [
  {
   "cell_type": "code",
   "execution_count": 49,
   "metadata": {},
   "outputs": [
    {
     "ename": "TypeError",
     "evalue": "'str' object is not callable",
     "output_type": "error",
     "traceback": [
      "\u001b[1;31m---------------------------------------------------------------------------\u001b[0m",
      "\u001b[1;31mTypeError\u001b[0m                                 Traceback (most recent call last)",
      "\u001b[1;32m<ipython-input-49-3470c54452e6>\u001b[0m in \u001b[0;36m<module>\u001b[1;34m()\u001b[0m\n\u001b[0;32m     13\u001b[0m \u001b[1;33m\u001b[0m\u001b[0m\n\u001b[0;32m     14\u001b[0m \u001b[0mcat\u001b[0m \u001b[1;33m=\u001b[0m \u001b[0mopen\u001b[0m\u001b[1;33m(\u001b[0m\u001b[1;34m'sentences.txt'\u001b[0m\u001b[1;33m)\u001b[0m \u001b[1;31m#открыл файл\u001b[0m\u001b[1;33m\u001b[0m\u001b[0m\n\u001b[1;32m---> 15\u001b[1;33m \u001b[0mlr\u001b[0m \u001b[1;33m=\u001b[0m \u001b[0mstr\u001b[0m\u001b[1;33m(\u001b[0m\u001b[0mcat\u001b[0m\u001b[1;33m.\u001b[0m\u001b[0mreadlines\u001b[0m\u001b[1;33m(\u001b[0m\u001b[1;33m)\u001b[0m\u001b[1;33m)\u001b[0m\u001b[1;33m.\u001b[0m\u001b[0mlower\u001b[0m\u001b[1;33m(\u001b[0m\u001b[1;33m)\u001b[0m \u001b[1;31m#нижний регистр\u001b[0m\u001b[1;33m\u001b[0m\u001b[0m\n\u001b[0m\u001b[0;32m     16\u001b[0m \u001b[1;33m\u001b[0m\u001b[0m\n\u001b[0;32m     17\u001b[0m \u001b[0mtoken_cat\u001b[0m \u001b[1;33m=\u001b[0m \u001b[0mre\u001b[0m\u001b[1;33m.\u001b[0m\u001b[0msplit\u001b[0m\u001b[1;33m(\u001b[0m\u001b[1;34m'[^a-z]'\u001b[0m\u001b[1;33m,\u001b[0m \u001b[0mlr\u001b[0m\u001b[1;33m)\u001b[0m\u001b[1;33m\u001b[0m\u001b[0m\n",
      "\u001b[1;31mTypeError\u001b[0m: 'str' object is not callable"
     ]
    }
   ],
   "source": [
    "import re\n",
    "import numpy as np\n",
    "import scipy.spatial.distance\n",
    "\n",
    "with open('sentences.txt', 'r') as sent:\n",
    "    st = []\n",
    "    wr = []\n",
    "    for line in sent:\n",
    "        line_list = re.split('[^a-z]', line.strip('\\\\n\\\\r.').lower())\n",
    "        line_list = list(filter(None, line_list))\n",
    "        st.append(line_list)\n",
    "    wr += line_list\n",
    "    \n",
    "cat = open('sentences.txt') #открыл файл\n",
    "lr = str(cat.readlines()).lower() #нижний регистр\n",
    "\n",
    "token_cat = re.split('[^a-z]', lr)\n",
    "\n",
    "token = [x for x in token_cat if x != 'n' and x != ''] #удалил разделители строк и пустые слова\n",
    "\n",
    "def unique(x): #определил функцию чтобы оставить только уникальные значений списка\n",
    "    n = []\n",
    "    for i in x:\n",
    "        if i not in n:            \n",
    "            n.append(i)\n",
    "    return n\n",
    "\n",
    "utoken = unique(token)\n",
    "keys = [x for x in range (len(utoken))]\n",
    "dic_cats = dict(zip(keys, utoken))    \n",
    "def file_len(fname):\n",
    "    with open(fname) as sent:\n",
    "        for i, l in enumerate(sent):\n",
    "            pass\n",
    "        return i+1\n",
    "    \n",
    "n = file_len ('sentences.txt')\n",
    "d = len(utoken)\n",
    "\n",
    "word_matrix = np.zeros(shape=(n, d))\n",
    "for i in range(n):\n",
    "    for j in range(d):\n",
    "        word_matrix[i][j] = st[i].count(dic_cats[j])\n",
    "\n",
    "cos_matrix = []\n",
    "for i in range(n):\n",
    "    cos_matrix.append(scipy.spatial.distance.cosine(word_matrix[0], word_matrix[i]))\n",
    "cos_matrix = np.array(cos_matrix)\n",
    "print (cos_matrix)"
   ]
  },
  {
   "cell_type": "code",
   "execution_count": null,
   "metadata": {},
   "outputs": [],
   "source": []
  },
  {
   "cell_type": "code",
   "execution_count": null,
   "metadata": {},
   "outputs": [],
   "source": []
  },
  {
   "cell_type": "code",
   "execution_count": null,
   "metadata": {},
   "outputs": [],
   "source": []
  },
  {
   "cell_type": "code",
   "execution_count": null,
   "metadata": {},
   "outputs": [],
   "source": []
  },
  {
   "cell_type": "code",
   "execution_count": null,
   "metadata": {},
   "outputs": [],
   "source": []
  },
  {
   "cell_type": "code",
   "execution_count": null,
   "metadata": {},
   "outputs": [],
   "source": []
  },
  {
   "cell_type": "code",
   "execution_count": null,
   "metadata": {},
   "outputs": [],
   "source": []
  }
 ],
 "metadata": {
  "kernelspec": {
   "display_name": "Python 3",
   "language": "python",
   "name": "python3"
  },
  "language_info": {
   "codemirror_mode": {
    "name": "ipython",
    "version": 3
   },
   "file_extension": ".py",
   "mimetype": "text/x-python",
   "name": "python",
   "nbconvert_exporter": "python",
   "pygments_lexer": "ipython3",
   "version": "3.6.5"
  }
 },
 "nbformat": 4,
 "nbformat_minor": 2
}
