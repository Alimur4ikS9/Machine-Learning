{
 "cells": [
  {
   "cell_type": "code",
   "execution_count": 18,
   "metadata": {},
   "outputs": [
    {
     "name": "stdout",
     "output_type": "stream",
     "text": [
      "Total lines number =  22\n",
      "Total words number =  484\n",
      "10\n",
      "\n",
      "\n",
      "['genes', 'unnecessary', 'installs', 'and', 'weighing', 'read', 'when', 'computers', 'receives', 'marks', 'process', 'cats', 'stdout', 'domestication', 'firmware', 'without', 'can', 'use', 'too', 'similar', 'x', 'symbols', 'part', 'such', 'catenates', 'store', 'external', 'size', 'arguments', 'successor', 'needing', 'three', 'content', 'flow', 'mavericks', 'released', 'safari', 'genus', 'kg', 'according', 'domestic', 'hear', 'high', 'ears', 'typically', 'redirected', 'wrong', 'purchase', 'create', 'be', 'lion', 'so', 'drive', 'pipes', 'every', 'developed', 'any', 'starting', 'some', 'through', 'to', 'displays', 'over', 'online', 'learned', 'possess', 'cat', 'both', 'most', 'patch', 'legibility', 'binary', 'linux', 'received', 'output', 'roughly', 'frequency', 'members', 'people', 'right', 'which', 'used', 'are', 'from', 'major', 'just', 'since', 'its', 'october', 'of', 'on', 'predecessor', 'processors', 'time', 'update', 'faint', 'have', 'changes', 'piped', 'world', 'no', 'apple', 'those', 'entirely', 'yosemite', 'streams', 'you', 'features', 'is', 't', 'files', 'or', 'other', 'connected', 'has', 'information', 'felis', 'stdin', 'closest', 'will', 'new', 'later', 'won', 'that', 'july', 'useful', 'recent', 'type', 'two', 'allow', 'mid', 'it', 'chromosomes', 'sounds', 's', 'the', 'artificial', 'concatenate', 'permanently', 'contains', 'by', 'also', 'based', 'in', 'concern', 'between', 'more', 'where', 'single', 'version', 'leopard', 'if', 'small', 'named', 'basic', 'interactive', 'unix', 'intel', 'incremental', 'mice', 'installation', 'release', 'during', 'run', 'safer', 'predators', 'was', 'error', 'redirection', 'releases', 'commands', 'releasing', 'one', 'diploid', 'year', 'separate', 'standard', 'vermin', 'were', 'count', 'adjacent', 'delete', 'community', 'versions', 'lb', 'wild', 'bytes', 'organisms', 'their', 'may', 'animals', 'mac', 'now', 'place', 'factory', 'available', 'app', 'comparison', 'undergone', 'sequence', 'installed', 'osx', 'offered', 'an', 'simply', 'for', 'tamed', 'enhancements', 'common', 'using', 'made', 'non', 'instead', 'lines', 'command', 'running', 'fifth', 'terms', 'domesticated', 'editions', 'file', 'second', 'clear', 'longer', 'allows', 'human', 'mountain', 'tiger', 'disk', 'off', 'switch', 'need', 'left', 'dogs', 'symbol', 'not', 'a', 'deliberately', 'they', 'upgrade', 'moved', 'default', 'rather', 'as', 'download', 'often', 'os', 'ancestor', 'however', 'than', 'selection', 'keyboards', 'started', 'with']\n",
      "\n",
      "Unique words number =  254\n",
      "0\n",
      "[0.0, 0.9527544408738466, 0.8644738145642124, 0.8951715163278082, 0.7770887149698589, 0.9402385695332803, 0.7327387580875756, 0.9258750683338899, 0.884272487528431, 0.9055088817476932, 0.8328165362273942, 0.8804771390665607, 0.8396432548525454, 0.8703592552895671, 0.8740118423302576, 0.9442721787424647, 0.8406361854220809, 0.956644501523794, 0.9442721787424647, 0.8885443574849294, 0.8427572744917122, 0.8250364469440586]\n",
      "0.7327387580875756 0.7770887149698589\n",
      "\n",
      " The nearest sentences are 7  and  5\n"
     ]
    }
   ],
   "source": [
    "import re;\n",
    "import math;\n",
    "import scipy.spatial;\n",
    "\n",
    "file = open(\"C:\\\\Users\\\\Acer\\\\Desktop\\\\sentences.txt\")\n",
    "sent = []\n",
    "\n",
    "for line in file:   \n",
    "    line = re.split('[^a-z]', line.lower()) \n",
    "    line = list(filter(None, line)) #delete all empty lines    \n",
    "    sent.append(line)   \n",
    "    \n",
    "Lcount = len(sent); #count total number of lines\n",
    "print(\"Total lines number = \" , Lcount)\n",
    "\n",
    "file.seek(0)\n",
    "\n",
    "words = re.split('[^a-z]', file.read().lower()) #cast list to string\n",
    "clean = list(filter(None, words)) #delete whitespaces using a filter\n",
    "\n",
    "print(\"Total words number = \" , len(clean))\n",
    "print (clean.count(\"cat\")); # cat number\n",
    "print(\"\\n\")\n",
    "\n",
    "uWords = set(words) #create a set of unique words\n",
    "uWords.remove('') #delete not removed ''\n",
    "\n",
    "dictionary = list(uWords)\n",
    "print (dictionary) #all unique words\n",
    "UWords = len(uWords) \n",
    "print(\"\\nUnique words number = \" , UWords)\n",
    "print(clean.count(\"\\ncat\\n\"));\n",
    "\n",
    "    \n",
    "a = [[0 for j in range(UWords)] for i in range(Lcount)];\n",
    "for i in range(Lcount):\n",
    "    for j in range(UWords):\n",
    "        a[i][j] = sent[i].count(dictionary[j])\n",
    "    \n",
    "def cosDist(x, y):\n",
    "    Zero = 0\n",
    "    A = 0\n",
    "    B = 0\n",
    "    for i in range(len(x)): \n",
    "        Zero += x[i] * y[i]\n",
    "        A += x[i] * x[i] \n",
    "        B += y[i] * y[i]\n",
    "    return 1 - (Zero / (math.sqrt(A) * math.sqrt(B)))\n",
    "\n",
    "dists = []\n",
    "min = 1;\n",
    "min2 = 1;\n",
    "for row in a:\n",
    "    dists.append(cosDist(a[0], row))\n",
    "    \n",
    "for n in dists:\n",
    "    if min > n and n != 0:\n",
    "        min = n;\n",
    "\n",
    "for n in dists:\n",
    "    if min2 > n and n != min and n != 0:\n",
    "        min2 = n;\n",
    "        \n",
    "line = dists.index(min) + 1;\n",
    "line2 = dists.index(min2) + 1;\n",
    "print(dists)\n",
    "print(min, min2)\n",
    "print(\"\\n\", \"The nearest sentences are\" , line, \" and \", line2)"
   ]
  },
  {
   "cell_type": "code",
   "execution_count": null,
   "metadata": {},
   "outputs": [],
   "source": []
  },
  {
   "cell_type": "code",
   "execution_count": null,
   "metadata": {},
   "outputs": [],
   "source": []
  },
  {
   "cell_type": "code",
   "execution_count": null,
   "metadata": {},
   "outputs": [],
   "source": []
  },
  {
   "cell_type": "code",
   "execution_count": null,
   "metadata": {},
   "outputs": [],
   "source": []
  },
  {
   "cell_type": "code",
   "execution_count": null,
   "metadata": {},
   "outputs": [],
   "source": []
  },
  {
   "cell_type": "code",
   "execution_count": null,
   "metadata": {},
   "outputs": [],
   "source": []
  },
  {
   "cell_type": "code",
   "execution_count": null,
   "metadata": {},
   "outputs": [],
   "source": []
  },
  {
   "cell_type": "code",
   "execution_count": null,
   "metadata": {},
   "outputs": [],
   "source": []
  }
 ],
 "metadata": {
  "kernelspec": {
   "display_name": "Python 3",
   "language": "python",
   "name": "python3"
  },
  "language_info": {
   "codemirror_mode": {
    "name": "ipython",
    "version": 3
   },
   "file_extension": ".py",
   "mimetype": "text/x-python",
   "name": "python",
   "nbconvert_exporter": "python",
   "pygments_lexer": "ipython3",
   "version": "3.6.5"
  }
 },
 "nbformat": 4,
 "nbformat_minor": 2
}
